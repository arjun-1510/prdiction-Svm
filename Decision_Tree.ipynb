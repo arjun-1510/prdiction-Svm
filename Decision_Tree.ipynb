{
  "nbformat": 4,
  "nbformat_minor": 0,
  "metadata": {
    "colab": {
      "name": "Decision Tree.ipynb",
      "provenance": [],
      "collapsed_sections": [],
      "authorship_tag": "ABX9TyNki8KaJUjttABiEtqVJzFR",
      "include_colab_link": true
    },
    "kernelspec": {
      "name": "python3",
      "display_name": "Python 3"
    },
    "language_info": {
      "name": "python"
    }
  },
  "cells": [
    {
      "cell_type": "markdown",
      "metadata": {
        "id": "view-in-github",
        "colab_type": "text"
      },
      "source": [
        "<a href=\"https://colab.research.google.com/github/arjun-1510/prdiction-Svm/blob/main/Decision_Tree.ipynb\" target=\"_parent\"><img src=\"https://colab.research.google.com/assets/colab-badge.svg\" alt=\"Open In Colab\"/></a>"
      ]
    },
    {
      "cell_type": "markdown",
      "source": [
        "# Author : ARJUN G\n",
        "Task 3 : Prediction using Decision Tree Algorithm\n",
        "GRIP @ The Sparks Foundation\n",
        "Decision Trees are versatile Machine Learning algorithms that can perform both classification and regression tasks, and even multioutput tasks.For the given ‘Iris’ dataset, I created the Decision Tree classifier and visualized it graphically. The purpose of this task is if we feed any new data to this classifier, it would be able to predict the right class accordingly.  \n",
        "\n",
        "Technical Stack : Sikit Learn, Numpy Array, Seaborn, Pandas, Matplotlib, Pydot\n"
      ],
      "metadata": {
        "id": "mqZhn05Pl3XO"
      }
    },
    {
      "cell_type": "code",
      "source": [
        "# Importing the required Libraries\n",
        "\n",
        "from sklearn.datasets import load_iris\n",
        "from sklearn.tree import DecisionTreeClassifier, export_graphviz\n",
        "from sklearn.model_selection import train_test_split\n",
        "import sklearn.metrics as sm\n",
        "\n",
        "import pandas as pd\n",
        "import numpy as np\n",
        "import seaborn as sns\n",
        "\n",
        "import matplotlib.pyplot as plt\n",
        "import pydot\n",
        "from IPython.display import Image"
      ],
      "metadata": {
        "id": "DelOxcUdmGK6"
      },
      "execution_count": null,
      "outputs": []
    },
    {
      "cell_type": "markdown",
      "source": [
        "Step 1 - Loading the Dataset"
      ],
      "metadata": {
        "id": "8uF_Ah2TmKt_"
      }
    },
    {
      "cell_type": "code",
      "source": [
        "iris = load_iris()\n",
        "X=iris.data[:,:] \n",
        "y=iris.target"
      ],
      "metadata": {
        "id": "3VKD_xUKmNof"
      },
      "execution_count": null,
      "outputs": []
    },
    {
      "cell_type": "markdown",
      "source": [
        "Step 2 - Exploratory Data Analysis"
      ],
      "metadata": {
        "id": "e86RyYXDmQ1u"
      }
    },
    {
      "cell_type": "code",
      "source": [
        "#Input data \n",
        "\n",
        "data=pd.DataFrame(iris['data'],columns=[\"Petal length\",\"Petal Width\",\"Sepal Length\",\"Sepal Width\"])\n",
        "data['Species']=iris['target']\n",
        "data['Species']=data['Species'].apply(lambda x: iris['target_names'][x])\n",
        "\n",
        "data.head()"
      ],
      "metadata": {
        "id": "I0RMywNwmVE9"
      },
      "execution_count": null,
      "outputs": []
    },
    {
      "cell_type": "code",
      "source": [
        "data.shape"
      ],
      "metadata": {
        "id": "sea6wioimcOl"
      },
      "execution_count": null,
      "outputs": []
    },
    {
      "cell_type": "code",
      "source": [
        "data.describe()"
      ],
      "metadata": {
        "id": "FOhPwGMfmez6"
      },
      "execution_count": null,
      "outputs": []
    },
    {
      "cell_type": "markdown",
      "source": [
        "Step 3 - Data Visualization comparing various features"
      ],
      "metadata": {
        "id": "JFbAnCEVmiBu"
      }
    },
    {
      "cell_type": "code",
      "source": [
        "# Input data Visualization\n",
        "sns.pairplot(data)"
      ],
      "metadata": {
        "id": "HCZhPyXDmnsH"
      },
      "execution_count": null,
      "outputs": []
    },
    {
      "cell_type": "code",
      "source": [
        "# Scatter plot of data based on Sepal Length and Width features\n",
        "sns.FacetGrid(data,hue='Species').map(plt.scatter,'Sepal Length','Sepal Width').add_legend()\n",
        "plt.show()\n",
        "\n",
        "# Scatter plot of data based on Petal Length and Width features\n",
        "sns.FacetGrid(data,hue='Species').map(plt.scatter,'Petal length','Petal Width').add_legend()\n",
        "plt.show()"
      ],
      "metadata": {
        "id": "IbxJGHLBmp-I"
      },
      "execution_count": null,
      "outputs": []
    },
    {
      "cell_type": "markdown",
      "source": [
        "Step 4 - Decision Tree Model Training"
      ],
      "metadata": {
        "id": "MoDXXpf4muWq"
      }
    },
    {
      "cell_type": "code",
      "source": [
        "# Model Training\n",
        "X_train, X_test, y_train, y_test = train_test_split(X, y, test_size=0.1, random_state=1) \n",
        "tree_classifier = DecisionTreeClassifier()\n",
        "tree_classifier.fit(X_train,y_train)\n",
        "print(\"Training Complete.\")\n",
        "y_pred = tree_classifier.predict(X_test)"
      ],
      "metadata": {
        "id": "zZ4W4NQsmvUh"
      },
      "execution_count": null,
      "outputs": []
    },
    {
      "cell_type": "markdown",
      "source": [
        "Step 5 - Comparing the actual and predicted flower classification"
      ],
      "metadata": {
        "id": "_dJqQCXumyJ5"
      }
    },
    {
      "cell_type": "code",
      "source": [
        "df = pd.DataFrame({'Actual': y_test, 'Predicted': y_pred}) \n",
        "df "
      ],
      "metadata": {
        "id": "9Xps7Bk5m3zI"
      },
      "execution_count": null,
      "outputs": []
    },
    {
      "cell_type": "markdown",
      "source": [
        "Step 6 - Visualizing the Trained Model"
      ],
      "metadata": {
        "id": "ahXVoXaGnEJK"
      }
    },
    {
      "cell_type": "markdown",
      "source": [
        ""
      ],
      "metadata": {
        "id": "O8Q3YQZonBJT"
      }
    },
    {
      "cell_type": "code",
      "source": [
        "#Visualizing the trained Decision Tree Classifier taking all 4 features in consideration\n",
        "\n",
        "export_graphviz(\n",
        "        tree_classifier,\n",
        "        out_file=\"img\\desision_tree.dot\",\n",
        "        feature_names=iris.feature_names[:],\n",
        "        class_names=iris.target_names,\n",
        "        rounded=True,\n",
        "        filled=True\n",
        ")\n",
        "\n",
        "(graph,) = pydot.graph_from_dot_file('img\\desision_tree.dot')\n",
        "graph.write_png('img\\desision_tree.png')\n",
        "\n",
        "Image(filename='img\\desision_tree.png') "
      ],
      "metadata": {
        "id": "4wH2k8okm7-y"
      },
      "execution_count": null,
      "outputs": []
    },
    {
      "cell_type": "markdown",
      "source": [
        ""
      ],
      "metadata": {
        "id": "Jdu0E3stm7qe"
      }
    },
    {
      "cell_type": "markdown",
      "source": [
        "Step 7 - Predicting the class output for some random values of petal and sepal length and width"
      ],
      "metadata": {
        "id": "ZWnetVqPnJgB"
      }
    },
    {
      "cell_type": "code",
      "source": [
        "print(\"Class Names = \",iris.target_names)\n",
        "\n",
        "# Estimating class probabilities\n",
        "print()\n",
        "print(\"Estimating Class Probabilities for flower whose petals length width are 4.7cm and 3.2cm and sepal length and width are 1.3cm and 0.2cm. \")\n",
        "print()\n",
        "print('Output = ',tree_classifier.predict([[4.7, 3.2, 1.3, 0.2]]))\n",
        "print()\n",
        "print(\"Our model predicts the class as 0, that is, setosa.\")"
      ],
      "metadata": {
        "id": "JhaEtqMlnKdq"
      },
      "execution_count": null,
      "outputs": []
    },
    {
      "cell_type": "markdown",
      "source": [
        "Step 8 - Calculating the Model accuracy"
      ],
      "metadata": {
        "id": "IZhn7R6pnRSe"
      }
    },
    {
      "cell_type": "code",
      "source": [
        "# Model Accuracy\n",
        "print(\"Accuracy:\",sm.accuracy_score(y_test, y_pred))"
      ],
      "metadata": {
        "id": "p49dUWtTnSLF"
      },
      "execution_count": null,
      "outputs": []
    },
    {
      "cell_type": "markdown",
      "source": [
        "# Conclusion\n",
        "I was able to successfully carry-out prediction using Prediction using Decision Tree Algorithm and was able to evaluate the model's accuracy score.\n",
        "Thank You"
      ],
      "metadata": {
        "id": "DrA1S11BnW7L"
      }
    }
  ]
}