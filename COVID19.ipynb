{
  "nbformat": 4,
  "nbformat_minor": 0,
  "metadata": {
    "colab": {
      "name": "COVID19.ipynb",
      "provenance": [],
      "collapsed_sections": [],
      "authorship_tag": "ABX9TyMbCmn7UNGlcO1FOpMIHBtO",
      "include_colab_link": true
    },
    "kernelspec": {
      "name": "python3",
      "display_name": "Python 3"
    },
    "language_info": {
      "name": "python"
    }
  },
  "cells": [
    {
      "cell_type": "markdown",
      "metadata": {
        "id": "view-in-github",
        "colab_type": "text"
      },
      "source": [
        "<a href=\"https://colab.research.google.com/github/arjun-1510/prdiction-Svm/blob/main/COVID19.ipynb\" target=\"_parent\"><img src=\"https://colab.research.google.com/assets/colab-badge.svg\" alt=\"Open In Colab\"/></a>"
      ]
    },
    {
      "cell_type": "markdown",
      "source": [
        ""
      ],
      "metadata": {
        "id": "hupSBUbLrewp"
      }
    },
    {
      "cell_type": "markdown",
      "source": [
        "# Author - ARJUN G \n",
        "Create a storyboard showing spread of Covid-19 cases in your country or any region (Asia, Europe, BRICS etc) using Tableau, Power BI or SAP\n",
        "Dataset: Daily updated .csv file on https://bit.ly/30d2gdi"
      ],
      "metadata": {
        "id": "_qOSXUWTrfms"
      }
    },
    {
      "cell_type": "code",
      "execution_count": null,
      "metadata": {
        "id": "WTh4-laYrT0T"
      },
      "outputs": [],
      "source": [
        "import pandas as pd\n",
        "import numpy as np\n",
        "import matplotlib.pyplot as plt\n",
        "from IPython.display import Markdown, display\n",
        "from datetime import datetime as d\n",
        "from ipywidgets import interact,interactive,fixed,interact_manual\n",
        "import ipywidgets as widgets\n",
        "import chart_studio.plotly as py\n",
        "import plotly.graph_objs as go\n",
        "from plotly.offline import iplot, init_notebook_mode\n",
        "import cufflinks\n",
        "from plotly.subplots import make_subplots\n",
        "import dateutil\n",
        "import plotly.express as px\n",
        "import plotly.io as pio\n",
        "import datetime\n",
        "from statistics import mean \n",
        "import datetime as dt\n",
        "import requests\n",
        "from itertools import chain\n",
        "import plotly.graph_objects as go\n",
        "from plotly.subplots import make_subplots\n",
        "import folium\n",
        "from folium import plugins\n",
        "import os\n",
        "import sys\n",
        "from scipy.optimize import curve_fit\n",
        "from sklearn.metrics import mean_squared_log_error\n",
        "from sklearn.metrics import r2_score\n",
        "cufflinks.go_offline(connected=True)\n",
        "init_notebook_mode(connected=True)\n",
        "%matplotlib inline"
      ]
    },
    {
      "cell_type": "markdown",
      "source": [
        "COVID19 SPREAD WORLDWIDE"
      ],
      "metadata": {
        "id": "u5WdBhWpruLZ"
      }
    },
    {
      "cell_type": "code",
      "source": [
        "full = pd.read_csv(\"full_data (4).csv\")\n",
        "full = full[full['new_cases'].notna()]\n",
        "full_ = full.groupby(\"date\" ,as_index=False)[['new_cases','new_deaths']].sum()\n",
        "full_[\"Date\"] = pd.to_datetime(full_['date'])\n",
        "full_['Week_Number'] = full_['Date'].dt.week\n",
        "full__ = full_.groupby(\"Week_Number\" ,as_index=False)[['new_cases','new_deaths']].mean()"
      ],
      "metadata": {
        "id": "RoW0gqjQry4G"
      },
      "execution_count": null,
      "outputs": []
    },
    {
      "cell_type": "code",
      "source": [
        "fig = px.bar(full_,x='date', y='new_cases', orientation='v',title = \"COVID19-  daily new cases\",\n",
        "             labels=dict(x=\"Date\", y=\"Count\"))\n",
        "fig.show()"
      ],
      "metadata": {
        "id": "FB6D8Wrar2Nn"
      },
      "execution_count": null,
      "outputs": []
    },
    {
      "cell_type": "code",
      "source": [
        "fig = px.line(x=full__[\"Week_Number\"], y=full__[\"new_cases\"], title = \"7-day average of daily new cases\",\n",
        "             labels=dict(x=\"Week\", y=\"Count\"))\n",
        "fig.show()"
      ],
      "metadata": {
        "id": "myMYZjfzr5WN"
      },
      "execution_count": null,
      "outputs": []
    },
    {
      "cell_type": "code",
      "source": [
        "df = pd.read_csv(\"covid_19_data.csv\")\n",
        "df.rename(columns={'ObservationDate':'Date','Province/State':'Province_State',\n",
        "                   'Country/Region':'Country_Region','Confirmed':'ConfirmedCases',\n",
        "                   'Deaths':'Fatalities'},inplace=True)\n",
        "df.loc[df['Country_Region']=='Mainland China','Country_Region']='China'\n",
        "\n",
        "df_world = df.copy()\n",
        "df_world = df_world.groupby('Date',as_index=False)['ConfirmedCases','Fatalities','Recovered'].sum()"
      ],
      "metadata": {
        "id": "gqDsFkzfr91A"
      },
      "execution_count": null,
      "outputs": []
    },
    {
      "cell_type": "code",
      "source": [
        "l = [df_world.columns.to_list()[1] , df_world.columns.to_list()[2] ,df_world.columns.to_list()[3]]\n",
        "fig = go.Figure()\n",
        "\n",
        "for column in l:\n",
        "    fig.add_trace(\n",
        "        go.Scatter(\n",
        "            x = df_world['Date'],\n",
        "            y = df_world[column],\n",
        "            name = column\n",
        "        )\n",
        "    )\n",
        "fig.update_layout(\n",
        "    updatemenus=[go.layout.Updatemenu(\n",
        "        active=0,\n",
        "        buttons=list(\n",
        "            [dict(label = 'All',\n",
        "                  method = 'update',\n",
        "                  args = [{'visible': [True, True,True]},\n",
        "                          {'title': 'All',\n",
        "                           'showlegend':True}]),\n",
        "             dict(label = 'ConfirmedCases',\n",
        "                  method = 'update',\n",
        "                  args = [{'visible': [True, False,False]}, \n",
        "                          {'title': 'ConfirmedCases',\n",
        "                           'showlegend':True}]),\n",
        "             dict(label = 'Fatalities',\n",
        "                  method = 'update',\n",
        "                  args = [{'visible': [False,True,False]},\n",
        "                          {'title': 'Fatalities',\n",
        "                           'showlegend':True}]),\n",
        "              dict(label = 'Recovered',\n",
        "                  method = 'update',\n",
        "                  args = [{'visible': [False,False,True]},\n",
        "                          {'title': 'Recovered',\n",
        "                           'showlegend':True}]),\n",
        "            ])\n",
        "        )\n",
        "    ])\n",
        "\n",
        "fig.show()\n"
      ],
      "metadata": {
        "id": "p0MLwkmesCth"
      },
      "execution_count": null,
      "outputs": []
    },
    {
      "cell_type": "code",
      "source": [
        "#Get the top 5 countries\n",
        "last_date = df.Date.max()\n",
        "df_countries = df[df['Date']==last_date]\n",
        "df_countries = df_countries.groupby('Country_Region', as_index=False)['ConfirmedCases','Fatalities','Recovered'].sum()\n",
        "df_countries = df_countries.sort_values(by = 'ConfirmedCases',ascending =False)\n",
        "df_trend = df.groupby(['Date','Country_Region'], as_index=False)['ConfirmedCases','Fatalities','Recovered'].sum()\n",
        "top5 = df_trend.loc[df_trend['Country_Region'].isin(['US', 'Brazil', 'India', 'Russia', 'Colombia'])]\n",
        "figa = px.line(top5, x='Date', y='ConfirmedCases', color='Country_Region', title='COVID19- Top 5 worst affected countries')\n",
        "figa.show()\n",
        "df_countries_fatal = df_countries.sort_values(by = 'Fatalities',ascending =False)\n",
        "top5_f = df_trend.loc[df_trend['Country_Region'].isin(['US', 'Brazil', 'India', 'Mexico', 'UK'])]\n",
        "figb = px.line(top5_f, x='Date', y='Fatalities', color='Country_Region', title='COVID19- Top 5 countries with highest no. of deaths')\n",
        "figb.show()"
      ],
      "metadata": {
        "id": "dGNfX6YRsImN"
      },
      "execution_count": null,
      "outputs": []
    },
    {
      "cell_type": "markdown",
      "source": [
        "# SPREAD OF COVID19 IN INDIA"
      ],
      "metadata": {
        "id": "iqkCRQgqsMJO"
      }
    },
    {
      "cell_type": "code",
      "source": [
        "d1 = pd.read_csv('state_wise.csv')\n",
        "\n",
        "d1['COVID_SPREAD'] = 'Recovered: ' + d1['Recovered'].astype(str) +'  Deceased: ' + d1['Deaths'].astype(str) \n",
        "d11 = d1.drop(0,)\n",
        "\n",
        "\n",
        "cord = pd.read_csv(\"Indian Coordinates.csv\")\n",
        "cord.rename(columns={\"Name of State / UT\" :\"State\"},inplace = True)\n",
        "cord = cord.drop(7).reset_index()\n",
        "cord[\"State\"]= cord[\"State\"].replace({\"Delhi\": \"NCT of Delhi\", \"Andaman and Nicobar\" : \"Andaman and Nicobar Island\" , \"Pondicherry\" : \"Puducherry\", \"Arunachal Pradesh\":\"Arunanchal Pradesh\"  })  \n",
        "final = pd.merge(d11,cord,on = \"State\")\n",
        "final[\"Confirmed\"] = final[\"Confirmed\"].astype(float)"
      ],
      "metadata": {
        "id": "rGZTPyI1sQ77"
      },
      "execution_count": null,
      "outputs": []
    },
    {
      "cell_type": "code",
      "source": [
        "m = folium.Map(location=[20,80], tiles=\"Stamen Terrain\", zoom_start=4)\n",
        "\n",
        "for Latitude, Longitude, State, Confirmed in zip(final.Latitude, final.Longitude ,final.State,final.Confirmed):\n",
        "        folium.features.CircleMarker(\n",
        "            [Latitude,Longitude],\n",
        "            radius=Confirmed/20000,\n",
        "            popup = ('<strong>State</strong>: ' + str(State).capitalize() + '<br>'\n",
        "                                '<strong>Confirmed Cases</strong>: ' + str(Confirmed) + '<br>'),\n",
        "            color='yellow',\n",
        "            fill=True,\n",
        "            fill_color='red',\n",
        "            fill_opacity=0.6\n",
        "        ).add_to(m)\n",
        "m"
      ],
      "metadata": {
        "id": "9SiNOHTUsUgx"
      },
      "execution_count": null,
      "outputs": []
    },
    {
      "cell_type": "code",
      "source": [
        "tri = pd.read_csv(\"case_time_series.csv\")\n",
        "t = tri.tail(1)\n",
        "t['country'] = \"India\"\n",
        "t['Total Confirmed'][282]\n",
        "fig = go.Figure()\n",
        "fig.add_trace(go.Bar(\n",
        "    y=t[\"country\"],\n",
        "    x=t[\"Total Confirmed\"],\n",
        "    name = \"Confirmed\",\n",
        "    orientation='h',\n",
        "    marker=dict(\n",
        "        color='rgba(2, 199, 99, 0.6)',\n",
        "        line=dict(color='rgba(2, 199, 99,0.6)', width=0.5)\n",
        "    )\n",
        "    \n",
        "))\n",
        "fig.add_trace(go.Bar(\n",
        "    y=t[\"country\"],\n",
        "    x=t[\"Total Recovered\"],\n",
        "    name = \"Recovered\",\n",
        "    orientation='h',\n",
        "    marker=dict(\n",
        "        color='rgba(246, 78, 139, 0.6)',\n",
        "        line=dict(color='rgba(246, 78, 139, 1.0)', width=0.5)\n",
        "    )\n",
        "))\n",
        "fig.add_trace(go.Bar(\n",
        "    y=t[\"country\"],\n",
        "    x=t[\"Total Deceased\"],\n",
        "    name = \"Deceased\",\n",
        "    orientation='h',\n",
        "    marker=dict(\n",
        "        color='rgba(58, 71, 80, 0.6)',\n",
        "        line=dict(color='rgba(58, 71, 80, 1.0)', width=0.5)\n",
        "    )\n",
        "    \n",
        "))\n",
        "\n",
        "\n",
        "fig.update_layout(barmode='stack')\n",
        "fig.show()"
      ],
      "metadata": {
        "id": "4IRxfJr-scCI"
      },
      "execution_count": null,
      "outputs": []
    },
    {
      "cell_type": "code",
      "source": [
        "fig = px.bar(tri,x='Date_YMD', y='Daily Confirmed', orientation='v',title = \"Daily new COVID19 cases in India\" )\n",
        "fig.update_layout(bargap = 0)\n",
        "fig.show()"
      ],
      "metadata": {
        "id": "wkDz4OKEsgc6"
      },
      "execution_count": null,
      "outputs": []
    },
    {
      "cell_type": "code",
      "source": [
        "# SPREAD IN INDIA OVERTIME\n",
        "l = [tri.columns.to_list()[4] , tri.columns.to_list()[6] ,tri.columns.to_list()[8]]\n",
        "fig = go.Figure()\n",
        "\n",
        "for column in l:\n",
        "    fig.add_trace(\n",
        "        go.Scatter(\n",
        "            x = tri['Date'],\n",
        "            y = tri[column],\n",
        "            name = column,\n",
        "        )\n",
        "    )\n",
        "fig.update_layout(\n",
        "    updatemenus=[go.layout.Updatemenu(\n",
        "        active=0,\n",
        "        buttons=list(\n",
        "            [dict(label = 'All',\n",
        "                  method = 'update',\n",
        "                  args = [{'visible': [True, True,True]},\n",
        "                          {'title': 'All',\n",
        "                           'showlegend':True}]),\n",
        "             dict(label = 'ConfirmedCases',\n",
        "                  method = 'update',\n",
        "                  args = [{'visible': [True, False,False]}, \n",
        "                          {'title': 'ConfirmedCases',\n",
        "                           'showlegend':True}]),\n",
        "             dict(label = 'Recovered',\n",
        "                  method = 'update',\n",
        "                  args = [{'visible': [False,True,False]},\n",
        "                          {'title': 'Recovered',\n",
        "                           'showlegend':True}]),\n",
        "              dict(label = 'Fatalities',\n",
        "                  method = 'update',\n",
        "                  args = [{'visible': [False,False,True]},\n",
        "                          {'title': 'Fatalities',\n",
        "                           'showlegend':True}]),\n",
        "            ])\n",
        "        )\n",
        "    ])\n",
        "\n",
        "fig.show()"
      ],
      "metadata": {
        "id": "jm7IWJ-FsmG8"
      },
      "execution_count": null,
      "outputs": []
    },
    {
      "cell_type": "markdown",
      "source": [
        "# Thank You"
      ],
      "metadata": {
        "id": "PG-LAopkssgg"
      }
    }
  ]
}